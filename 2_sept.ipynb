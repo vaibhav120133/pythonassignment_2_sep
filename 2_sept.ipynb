{
 "cells": [
  {
   "cell_type": "code",
   "execution_count": 1,
   "id": "e8583f8e-db89-4021-bcb5-61d7f5fe96d8",
   "metadata": {},
   "outputs": [
    {
     "name": "stdout",
     "output_type": "stream",
     "text": [
      "1\n",
      "2\n",
      "3\n",
      "4\n",
      "5\n",
      "6\n",
      "7\n",
      "8\n",
      "9\n",
      "10\n"
     ]
    }
   ],
   "source": [
    "#1\n",
    "for i in range(1,11):\n",
    "    print(i)"
   ]
  },
  {
   "cell_type": "code",
   "execution_count": 2,
   "id": "62eba707-e905-4327-95af-bc7907a7c04d",
   "metadata": {},
   "outputs": [
    {
     "name": "stdout",
     "output_type": "stream",
     "text": [
      "697\n"
     ]
    }
   ],
   "source": [
    "#2\n",
    "a=[2,5,345,345]\n",
    "sum=0\n",
    "for i in a:\n",
    "    sum+=i\n",
    "print(sum)"
   ]
  },
  {
   "cell_type": "code",
   "execution_count": 4,
   "id": "499abdf6-b0fc-4b64-b630-076452dfb63b",
   "metadata": {},
   "outputs": [
    {
     "name": "stdout",
     "output_type": "stream",
     "text": [
      "v\n",
      "a\n",
      "h\n",
      "b\n",
      "i\n",
      "a\n",
      "v\n"
     ]
    }
   ],
   "source": [
    "#3\n",
    "a=\"vaibhav\"\n",
    "for i in reversed(a):\n",
    "    print(i)"
   ]
  },
  {
   "cell_type": "code",
   "execution_count": 8,
   "id": "a1910f68-2288-4b58-bd4a-78abda9f8c34",
   "metadata": {},
   "outputs": [
    {
     "name": "stdin",
     "output_type": "stream",
     "text": [
      "enter a number: 0\n"
     ]
    },
    {
     "name": "stdout",
     "output_type": "stream",
     "text": [
      "1\n"
     ]
    }
   ],
   "source": [
    "#4\n",
    "b=int(input(\"enter a number:\"))\n",
    "sum=1\n",
    "for i in range(1,b+1):\n",
    "    sum*=i\n",
    "print(sum)"
   ]
  },
  {
   "cell_type": "code",
   "execution_count": 9,
   "id": "7d257516-62c9-4415-a79e-e5baea6f63ec",
   "metadata": {},
   "outputs": [
    {
     "name": "stdin",
     "output_type": "stream",
     "text": [
      "enter a number: 5\n"
     ]
    },
    {
     "name": "stdout",
     "output_type": "stream",
     "text": [
      "5 * 1 = 5\n",
      "5 * 2 = 10\n",
      "5 * 3 = 15\n",
      "5 * 4 = 20\n",
      "5 * 5 = 25\n",
      "5 * 6 = 30\n",
      "5 * 7 = 35\n",
      "5 * 8 = 40\n",
      "5 * 9 = 45\n",
      "5 * 10 = 50\n"
     ]
    }
   ],
   "source": [
    "#5\n",
    "b=int(input(\"enter a number:\"))\n",
    "\n",
    "for i in range(1,11):\n",
    "    print(b,\"*\",i,\"=\",b*i)"
   ]
  },
  {
   "cell_type": "code",
   "execution_count": 11,
   "id": "dcc18759-d1f1-4f71-be9f-89e9c62611b2",
   "metadata": {},
   "outputs": [
    {
     "name": "stdout",
     "output_type": "stream",
     "text": [
      "even = 3\n",
      "even = 4\n"
     ]
    }
   ],
   "source": [
    "#6\n",
    "a=[3,456,7,346378,3462,645633,63345637]\n",
    "counte=counto=0\n",
    "for i in a:\n",
    "    if i % 2 == 0:\n",
    "        counte+=1\n",
    "    else:\n",
    "        counto+=1\n",
    "print(\"even =\",counte)\n",
    "print(\"even =\",counto)"
   ]
  },
  {
   "cell_type": "code",
   "execution_count": 12,
   "id": "b6d05ddb-c6e5-45fa-a3c7-a2199cadb41c",
   "metadata": {},
   "outputs": [
    {
     "name": "stdout",
     "output_type": "stream",
     "text": [
      "square of  1 is 1\n",
      "square of  2 is 4\n",
      "square of  3 is 9\n",
      "square of  4 is 16\n",
      "square of  5 is 25\n"
     ]
    }
   ],
   "source": [
    "#7\n",
    "for i in range(1,6):\n",
    "    print(\"square of \",i,\"is\",i**2)"
   ]
  },
  {
   "cell_type": "code",
   "execution_count": 13,
   "id": "1f065b76-7c44-4e4c-a5be-5276012e96ce",
   "metadata": {},
   "outputs": [
    {
     "name": "stdout",
     "output_type": "stream",
     "text": [
      "7\n"
     ]
    }
   ],
   "source": [
    "#8\n",
    "a=\"vaibhav\"\n",
    "count=0\n",
    "for i in a:\n",
    "    count+=1\n",
    "print(count)"
   ]
  },
  {
   "cell_type": "code",
   "execution_count": 14,
   "id": "df35b4c5-41bd-45b5-99ee-9b04491aef47",
   "metadata": {},
   "outputs": [
    {
     "name": "stdout",
     "output_type": "stream",
     "text": [
      "174.25\n"
     ]
    }
   ],
   "source": [
    "#9\n",
    "a=[2,5,345,345]\n",
    "sum=0\n",
    "for i in a:\n",
    "    sum+=i\n",
    "print(sum/len(a))"
   ]
  },
  {
   "cell_type": "code",
   "execution_count": 27,
   "id": "d22ae6ec-0b4c-4927-bf63-f8aa57ed5d9e",
   "metadata": {},
   "outputs": [
    {
     "name": "stdin",
     "output_type": "stream",
     "text": [
      "enter a number: 10\n"
     ]
    },
    {
     "name": "stdout",
     "output_type": "stream",
     "text": [
      "0\n",
      "1\n",
      "1\n",
      "2\n",
      "3\n",
      "5\n",
      "8\n",
      "13\n",
      "21\n",
      "34\n"
     ]
    }
   ],
   "source": [
    "#10\n",
    "b=int(input(\"enter a number:\"))\n",
    "print(0)\n",
    "print(1)\n",
    "\n",
    "f=0\n",
    "s=1\n",
    "for i in range(0,b-2):\n",
    "    print(f+s)\n",
    "    f,s=s,f+s"
   ]
  },
  {
   "cell_type": "code",
   "execution_count": 36,
   "id": "1e2b4ed9-fbfc-451a-b2b7-f8c72532663e",
   "metadata": {},
   "outputs": [
    {
     "name": "stdout",
     "output_type": "stream",
     "text": [
      "yes  3\n"
     ]
    }
   ],
   "source": [
    "#11\n",
    "a=[2342,56346,425,124,2,3,35,3,2234,45]\n",
    "for i in range (len(a)):\n",
    "    for j in range (i+1,len(a)):\n",
    "        if a[i]==a[j]:\n",
    "            print(\"yes \",a[i])\n",
    "        else:\n",
    "            pass\n",
    "        "
   ]
  },
  {
   "cell_type": "code",
   "execution_count": 20,
   "id": "61cb6fca-ba21-427f-88db-bd62957f141e",
   "metadata": {},
   "outputs": [
    {
     "name": "stdin",
     "output_type": "stream",
     "text": [
      "enter a number: 100\n"
     ]
    },
    {
     "name": "stdout",
     "output_type": "stream",
     "text": [
      "number is prime: 2\n",
      "number is prime: 3\n",
      "number is prime: 5\n",
      "number is prime: 7\n",
      "number is prime: 11\n",
      "number is prime: 13\n",
      "number is prime: 17\n",
      "number is prime: 19\n",
      "number is prime: 23\n",
      "number is prime: 29\n",
      "number is prime: 31\n",
      "number is prime: 37\n",
      "number is prime: 41\n",
      "number is prime: 43\n",
      "number is prime: 47\n",
      "number is prime: 53\n",
      "number is prime: 59\n",
      "number is prime: 61\n",
      "number is prime: 67\n",
      "number is prime: 71\n",
      "number is prime: 73\n",
      "number is prime: 79\n",
      "number is prime: 83\n",
      "number is prime: 89\n",
      "number is prime: 97\n"
     ]
    }
   ],
   "source": [
    "#12\n",
    "import math\n",
    "b=int(input(\"enter a number:\"))\n",
    "for i in range(b):\n",
    "    c=True\n",
    "    if i<2:\n",
    "        continue\n",
    "    else:        \n",
    "        for j in range(2, int(math.sqrt(i)) + 1):\n",
    "            if i%j==0:\n",
    "                c=False\n",
    "                break\n",
    "                    \n",
    "        if c==True:\n",
    "            print(\"number is prime:\",i)"
   ]
  },
  {
   "cell_type": "code",
   "execution_count": 23,
   "id": "8ccac800-880f-425a-8263-4c79560d59a7",
   "metadata": {},
   "outputs": [
    {
     "name": "stdout",
     "output_type": "stream",
     "text": [
      "4\n"
     ]
    }
   ],
   "source": [
    "#13\n",
    "s=\"hftyyfiy\"\n",
    "count=0\n",
    "for i in s:\n",
    "    if i in ['a','i','o','u','y']:\n",
    "        count+=1\n",
    "print(count)"
   ]
  },
  {
   "cell_type": "code",
   "execution_count": 26,
   "id": "a9358c25-f78c-4df3-87e2-d1548aed63f0",
   "metadata": {},
   "outputs": [
    {
     "name": "stdout",
     "output_type": "stream",
     "text": [
      "3345\n"
     ]
    }
   ],
   "source": [
    "#14\n",
    "l=[[2,5,345,3345],[235,56,345,3,2,4],[23,545,345,33]]\n",
    "max=0\n",
    "for row in l:\n",
    "    for elements in row:\n",
    "        if elements>max:\n",
    "            max=elements\n",
    "print(max)"
   ]
  },
  {
   "cell_type": "code",
   "execution_count": 28,
   "id": "b8c1abc6-b23e-4ae2-8c3a-538e868fcfbb",
   "metadata": {},
   "outputs": [
    {
     "name": "stdout",
     "output_type": "stream",
     "text": [
      "[2342, 56346, 425, 124, 2, 35, 2234, 45]\n"
     ]
    }
   ],
   "source": [
    "#15\n",
    "a=[2342,56346,425,124,2,3,35,3,2234,45]\n",
    "c=3\n",
    "b=[i for i in a if i != c]\n",
    "print(b)"
   ]
  },
  {
   "cell_type": "code",
   "execution_count": 29,
   "id": "7fdea080-431c-4892-9ea8-0647db3299d7",
   "metadata": {},
   "outputs": [
    {
     "name": "stdout",
     "output_type": "stream",
     "text": [
      "1 * 1 = 1\n",
      "1 * 2 = 2\n",
      "1 * 3 = 3\n",
      "1 * 4 = 4\n",
      "1 * 5 = 5\n",
      "1 * 6 = 6\n",
      "1 * 7 = 7\n",
      "1 * 8 = 8\n",
      "1 * 9 = 9\n",
      "1 * 10 = 10\n",
      "2 * 1 = 2\n",
      "2 * 2 = 4\n",
      "2 * 3 = 6\n",
      "2 * 4 = 8\n",
      "2 * 5 = 10\n",
      "2 * 6 = 12\n",
      "2 * 7 = 14\n",
      "2 * 8 = 16\n",
      "2 * 9 = 18\n",
      "2 * 10 = 20\n",
      "3 * 1 = 3\n",
      "3 * 2 = 6\n",
      "3 * 3 = 9\n",
      "3 * 4 = 12\n",
      "3 * 5 = 15\n",
      "3 * 6 = 18\n",
      "3 * 7 = 21\n",
      "3 * 8 = 24\n",
      "3 * 9 = 27\n",
      "3 * 10 = 30\n",
      "4 * 1 = 4\n",
      "4 * 2 = 8\n",
      "4 * 3 = 12\n",
      "4 * 4 = 16\n",
      "4 * 5 = 20\n",
      "4 * 6 = 24\n",
      "4 * 7 = 28\n",
      "4 * 8 = 32\n",
      "4 * 9 = 36\n",
      "4 * 10 = 40\n",
      "5 * 1 = 5\n",
      "5 * 2 = 10\n",
      "5 * 3 = 15\n",
      "5 * 4 = 20\n",
      "5 * 5 = 25\n",
      "5 * 6 = 30\n",
      "5 * 7 = 35\n",
      "5 * 8 = 40\n",
      "5 * 9 = 45\n",
      "5 * 10 = 50\n"
     ]
    }
   ],
   "source": [
    "#16\n",
    "for b in range(1,6):\n",
    "    for i in range(1,11):\n",
    "        print(b,\"*\",i,\"=\",b*i)"
   ]
  },
  {
   "cell_type": "code",
   "execution_count": 30,
   "id": "97b79727-df8e-4a23-bafc-5701cdc1f235",
   "metadata": {},
   "outputs": [
    {
     "name": "stdout",
     "output_type": "stream",
     "text": [
      "Fahrenheit Temperatures: [32, 68, 86, 104, 212]\n",
      "Celsius Temperatures: [0.0, 20.0, 30.0, 40.0, 100.0]\n"
     ]
    }
   ],
   "source": [
    "#17\n",
    "fahrenheit_temperatures = [32, 68, 86, 104, 212]\n",
    "celsius_temperatures = []\n",
    "\n",
    "for fahrenheit in fahrenheit_temperatures:\n",
    "    celsius = (fahrenheit - 32) * 5/9\n",
    "    celsius_temperatures.append(celsius)\n",
    "\n",
    "print(\"Fahrenheit Temperatures:\", fahrenheit_temperatures)\n",
    "print(\"Celsius Temperatures:\", celsius_temperatures)"
   ]
  },
  {
   "cell_type": "code",
   "execution_count": 31,
   "id": "77561b11-3fce-43eb-995a-efb09759f315",
   "metadata": {},
   "outputs": [
    {
     "name": "stdout",
     "output_type": "stream",
     "text": [
      "[425]\n"
     ]
    }
   ],
   "source": [
    "#18\n",
    "a=[2342,56346,425,124,2,3,35,3,2234,45]\n",
    "b=[234,5636,425,12,26,36,5,36,224,465]\n",
    "c=[x for x in a if x in b]\n",
    "print(c)"
   ]
  },
  {
   "cell_type": "code",
   "execution_count": 1,
   "id": "e7a5b99f-afa0-439c-82b6-90da1d2588e3",
   "metadata": {},
   "outputs": [
    {
     "name": "stdout",
     "output_type": "stream",
     "text": [
      "*\n",
      "**\n",
      "***\n",
      "****\n",
      "*****\n"
     ]
    }
   ],
   "source": [
    "#19\n",
    "for j in range(1,6):\n",
    "        print(\"*\"*j)\n"
   ]
  },
  {
   "cell_type": "code",
   "execution_count": null,
   "id": "832773ba-99e0-4c0b-a2ef-7f3c21654d4c",
   "metadata": {},
   "outputs": [],
   "source": [
    "#20\n",
    "num1 = int(input(\"Enter the first number: \"))\n",
    "num2 = int(input(\"Enter the second number: \"))\n",
    "\n",
    "gcd = 1\n",
    "\n",
    "for i in range(1, min(num1, num2) + 1):\n",
    "    if num1 % i == 0 and num2 % i == 0:\n",
    "        gcd = i\n",
    "\n",
    "print(\"The Greatest Common Divisor (GCD) of\", num1, \"and\", num2, \"is\", gcd)"
   ]
  },
  {
   "cell_type": "code",
   "execution_count": 4,
   "id": "173b5530-1314-4355-b7b0-5aef142e7053",
   "metadata": {},
   "outputs": [
    {
     "name": "stdout",
     "output_type": "stream",
     "text": [
      "[6, 9, 21, 9]\n"
     ]
    }
   ],
   "source": [
    "#21\n",
    "numbers = [123, 45, 678, 9]\n",
    "sumno = [sum(int(n) for n in str(n1)) for n1 in numbers]\n",
    "print(sumno)"
   ]
  },
  {
   "cell_type": "code",
   "execution_count": null,
   "id": "7d87582a-6243-4b12-8946-f828723c7f8e",
   "metadata": {},
   "outputs": [],
   "source": [
    "#22\n",
    "num = int(input(\"Enter a number to find its prime factors: \"))\n",
    "f=[i for i in range(2,int(num**0.5)+1) if num % 2 ==0 ]\n",
    "print(f)"
   ]
  },
  {
   "cell_type": "code",
   "execution_count": 33,
   "id": "e87eda83-dc9a-4068-b200-e411cd4a6092",
   "metadata": {},
   "outputs": [
    {
     "name": "stdout",
     "output_type": "stream",
     "text": [
      "[1, 5]\n"
     ]
    }
   ],
   "source": [
    "#23\n",
    "l=[1,2,2,3,4,3,4,3,4,5,4,3,4]\n",
    "u=[i for i in l if l.count(i) == 1 ]\n",
    "print(u)"
   ]
  },
  {
   "cell_type": "code",
   "execution_count": 2,
   "id": "11db0498-8026-4556-810c-7c46e4a2f003",
   "metadata": {},
   "outputs": [
    {
     "name": "stdin",
     "output_type": "stream",
     "text": [
      "enter a limit 100\n"
     ]
    },
    {
     "name": "stdout",
     "output_type": "stream",
     "text": [
      "[0, 1, 2, 3, 4, 5, 6, 7, 8, 9, 11, 22, 33, 44, 55, 66, 77, 88, 99]\n"
     ]
    }
   ],
   "source": [
    "#24\n",
    "l= int(input(\"enter a limit\"))\n",
    "p=[n for n in range(l+1) if str(n) == str(n)[::-1] ]\n",
    "print(p)"
   ]
  },
  {
   "cell_type": "code",
   "execution_count": 3,
   "id": "6ec9047c-42ac-4fe8-a69d-3bf9fa3fc1de",
   "metadata": {},
   "outputs": [
    {
     "name": "stdout",
     "output_type": "stream",
     "text": [
      "[2, 5, 345, 3345, 235, 56, 345, 3, 2, 4, 23, 545, 345, 33]\n"
     ]
    }
   ],
   "source": [
    "#25\n",
    "l=[[2,5,345,3345],[235,56,345,3,2,4],[23,545,345,33]]\n",
    "r=[i for s in l for i in s]\n",
    "print(r)"
   ]
  },
  {
   "cell_type": "code",
   "execution_count": 4,
   "id": "afbd2e50-e906-40a1-9d2d-5a5c671aeafb",
   "metadata": {},
   "outputs": [
    {
     "name": "stdout",
     "output_type": "stream",
     "text": [
      "even number: [678]\n",
      "odd number: [123, 45, 9]\n"
     ]
    }
   ],
   "source": [
    "#26\n",
    "numbers = [123, 45, 678, 9]\n",
    "e=[i for i in numbers if i%2==0]\n",
    "o=[i for i in numbers if i%2!=0]\n",
    "print(\"even number:\",e)\n",
    "print(\"odd number:\",o)"
   ]
  },
  {
   "cell_type": "code",
   "execution_count": 5,
   "id": "2d3cb8c2-a1e5-457c-a6cb-96b25ced455c",
   "metadata": {},
   "outputs": [
    {
     "name": "stdout",
     "output_type": "stream",
     "text": [
      "[1, 9, 25, 49, 81]\n"
     ]
    }
   ],
   "source": [
    "#27\n",
    "s=[i**2 for i in range(1,11) if i%2!=0]\n",
    "print(s)"
   ]
  },
  {
   "cell_type": "code",
   "execution_count": 8,
   "id": "21724083-7dc7-4052-9f93-ce2320eae5f6",
   "metadata": {},
   "outputs": [
    {
     "name": "stdout",
     "output_type": "stream",
     "text": [
      "Combined Dictionary: {'name': 'Alice', 'age': 3, 'city': 40}\n"
     ]
    }
   ],
   "source": [
    "#28\n",
    "keys = [\"name\", \"age\", \"city\"]\n",
    "values = [\"Alice\", 3,40, \"New York\",40]\n",
    "\n",
    "\n",
    "combined_dict = {keys[i]: values[i] for i in range(len(keys))}\n",
    "\n",
    "print(\"Combined Dictionary:\", combined_dict)\n"
   ]
  },
  {
   "cell_type": "code",
   "execution_count": 10,
   "id": "1e7f8a83-066e-4611-bbcd-f813429bd52e",
   "metadata": {},
   "outputs": [
    {
     "name": "stdout",
     "output_type": "stream",
     "text": [
      "['a', 'i', 'a']\n"
     ]
    }
   ],
   "source": [
    "#29\n",
    "s=\"vaibhav\"\n",
    "l=[i for i in s if i in \"iaeou\"]\n",
    "print(l)"
   ]
  },
  {
   "cell_type": "code",
   "execution_count": 13,
   "id": "6ccbdda8-d9ab-4fd0-84bd-7a16af95b1cd",
   "metadata": {},
   "outputs": [
    {
     "name": "stdout",
     "output_type": "stream",
     "text": [
      "['123', '456', '789', '0']\n"
     ]
    }
   ],
   "source": [
    "#30\n",
    "t = [\"abc123\", \"def456\", \"ghi789\", \"jkl0mno\"]\n",
    "s=[''.join([char for char in i if char.isnumeric()]) for i in t]\n",
    "print(s)"
   ]
  },
  {
   "cell_type": "code",
   "execution_count": 14,
   "id": "4dbc58aa-8e1d-47b8-aa61-2285a6f94408",
   "metadata": {},
   "outputs": [
    {
     "name": "stdin",
     "output_type": "stream",
     "text": [
      "Enter a limit for prime numbers:  5\n"
     ]
    },
    {
     "name": "stdout",
     "output_type": "stream",
     "text": [
      "Prime numbers up to 5 are: [2, 3, 5]\n"
     ]
    }
   ],
   "source": [
    "#31\n",
    "def sieve_of_eratosthenes(limit):\n",
    "    sieve = [True] * (limit + 1)\n",
    "    sieve[0] = sieve[1] = False\n",
    "\n",
    "    for current_num in range(2, int(limit**0.5) + 1):\n",
    "        if sieve[current_num]:\n",
    "            for multiple in range(current_num**2, limit + 1, current_num):\n",
    "                sieve[multiple] = False\n",
    "\n",
    "    primes = [num for num, is_prime in enumerate(sieve) if is_prime]\n",
    "    return primes\n",
    "\n",
    "# Specify the limit for prime number generation\n",
    "limit = int(input(\"Enter a limit for prime numbers: \"))\n",
    "\n",
    "# Generate and print the list of prime numbers\n",
    "prime_numbers = sieve_of_eratosthenes(limit)\n",
    "print(\"Prime numbers up to\", limit, \"are:\", prime_numbers)"
   ]
  },
  {
   "cell_type": "code",
   "execution_count": 27,
   "id": "d488a0d0-5c0a-4e56-9d65-1bd508a0b285",
   "metadata": {},
   "outputs": [
    {
     "name": "stdin",
     "output_type": "stream",
     "text": [
      "Enter the limit:  15\n"
     ]
    },
    {
     "name": "stdout",
     "output_type": "stream",
     "text": [
      "Pythagorean triplets up to 15 are:\n",
      "(3, 4, 5)\n",
      "(5, 12, 13)\n",
      "(6, 8, 10)\n",
      "(9, 12, 15)\n"
     ]
    }
   ],
   "source": [
    "#32\n",
    "def is_pythagorean_triplet(a, b, c):\n",
    "    return a**2 + b**2 == c**2\n",
    "\n",
    "def generate_pythagorean_triplets(limit):\n",
    "    triplets = [(a, b, c) for a in range(1, limit + 1)\n",
    "                          for b in range(a, limit + 1)\n",
    "                          for c in range(b, limit + 1)\n",
    "                          if is_pythagorean_triplet(a, b, c)]\n",
    "    return triplets\n",
    "\n",
    "# Specify the limit for generating Pythagorean triplets\n",
    "limit = int(input(\"Enter the limit: \"))\n",
    "\n",
    "# Generate and print Pythagorean triplets up to the specified limit\n",
    "pythagorean_triplets = generate_pythagorean_triplets(limit)\n",
    "print(\"Pythagorean triplets up to\", limit, \"are:\")\n",
    "for triplet in pythagorean_triplets:\n",
    "    print(triplet)\n"
   ]
  },
  {
   "cell_type": "code",
   "execution_count": 1,
   "id": "1cca4549-e33b-45c7-ac90-9b2d3f450274",
   "metadata": {},
   "outputs": [
    {
     "name": "stdout",
     "output_type": "stream",
     "text": [
      "[(1, 'list'), (1, 'string'), (1, 'tuple'), (1, 'dictionary'), (1, 'set'), (2, 'list'), (2, 'string'), (2, 'tuple'), (2, 'dictionary'), (2, 'set'), (3, 'list'), (3, 'string'), (3, 'tuple'), (3, 'dictionary'), (3, 'set'), (4, 'list'), (4, 'string'), (4, 'tuple'), (4, 'dictionary'), (4, 'set'), (5, 'list'), (5, 'string'), (5, 'tuple'), (5, 'dictionary'), (5, 'set')]\n"
     ]
    }
   ],
   "source": [
    "#33\n",
    "l=[1,2,3,4,5]\n",
    "s=[\"list\",\"string\",\"tuple\",\"dictionary\",\"set\"]\n",
    "print([(x,y) for x in l for y in s]) "
   ]
  },
  {
   "cell_type": "code",
   "execution_count": 5,
   "id": "c50fc986-581e-41ac-ad6d-246bcc3cc68b",
   "metadata": {},
   "outputs": [
    {
     "name": "stdout",
     "output_type": "stream",
     "text": [
      "Mean: 3.125\n",
      "Median: 3.5\n",
      "Mode: 4\n"
     ]
    }
   ],
   "source": [
    "#34\n",
    "# Sample list of numbers\n",
    "numbers = [1, 2, 2, 3, 4, 4, 4, 5]\n",
    "\n",
    "# Calculate mean using list comprehension\n",
    "mean_result = sum(numbers) / len(numbers)\n",
    "\n",
    "# Calculate median without using statistics module\n",
    "sorted_numbers = sorted(numbers)\n",
    "n = len(numbers)\n",
    "if n % 2 == 1:\n",
    "    median_result = sorted_numbers[n // 2]\n",
    "else:\n",
    "    median_result = (sorted_numbers[(n - 1) // 2] + sorted_numbers[n // 2]) / 2\n",
    "\n",
    "# Calculate mode without using statistics module\n",
    "num_counts = {}\n",
    "for num in numbers:\n",
    "    num_counts[num] = num_counts.get(num, 0) + 1\n",
    "\n",
    "max_count = max(num_counts.values())\n",
    "mode_result = [num for num, count in num_counts.items() if count == max_count]\n",
    "\n",
    "print(f\"Mean: {mean_result}\")\n",
    "print(f\"Median: {median_result}\")\n",
    "print(f\"Mode: {', '.join(map(str, mode_result))}\")\n"
   ]
  },
  {
   "cell_type": "code",
   "execution_count": 5,
   "id": "397604fe-d00a-4deb-b7f5-a025765e760a",
   "metadata": {},
   "outputs": [
    {
     "name": "stdout",
     "output_type": "stream",
     "text": [
      "       1       \n",
      "      1 1      \n",
      "     1 2 1     \n",
      "    1 3 3 1    \n",
      "   1 4 6 4 1   \n"
     ]
    }
   ],
   "source": [
    "#35\n",
    "def generate_pascals_triangle(num_rows):\n",
    "    if num_rows <= 0:\n",
    "        return []\n",
    "\n",
    "    triangle = [[1]]\n",
    "    \n",
    "    for i in range(1, num_rows):\n",
    "        # Calculate the next row using the previous row\n",
    "        previous_row = triangle[-1]\n",
    "        next_row = [1] + [previous_row[j] + previous_row[j+1] for j in range(len(previous_row)-1)] + [1]\n",
    "        triangle.append(next_row)\n",
    "\n",
    "    return triangle\n",
    "\n",
    "def display_pascals_triangle(triangle):\n",
    "    for row in triangle:\n",
    "        print(\" \".join(map(str, row)).center(len(triangle[-1]) * 3))\n",
    "\n",
    "# Specify the number of rows for Pascal's triangle\n",
    "num_rows = 5\n",
    "\n",
    "# Generate Pascal's triangle\n",
    "pascals_triangle = generate_pascals_triangle(num_rows)\n",
    "\n",
    "# Display Pascal's triangle\n",
    "display_pascals_triangle(pascals_triangle)\n"
   ]
  },
  {
   "cell_type": "code",
   "execution_count": 2,
   "id": "885a7b0e-9890-455e-b12a-9dff26b5ce60",
   "metadata": {},
   "outputs": [
    {
     "name": "stdout",
     "output_type": "stream",
     "text": [
      "[1, 2, 6, 6, 3]\n"
     ]
    }
   ],
   "source": [
    "#36\n",
    "def factorial(n):\n",
    "    if n == 0:\n",
    "        return 1\n",
    "    else:\n",
    "        return n * factorial(n - 1)\n",
    "factorial_list = [factorial(i) for i in range(1, 6)]\n",
    "s=[sum(int(g) for g in str(j)) for j in factorial_list]\n",
    "print(s)"
   ]
  },
  {
   "cell_type": "code",
   "execution_count": 19,
   "id": "372148dc-a296-4f29-99e7-28a181a6e110",
   "metadata": {},
   "outputs": [
    {
     "name": "stdout",
     "output_type": "stream",
     "text": [
      "vaibhavvvvv\n"
     ]
    }
   ],
   "source": [
    "#37\n",
    "s=\"Hello everyone my name is vaibhav gupta. I am from indore ,M.P\"\n",
    "f=s.split()\n",
    "a=max(f,key=lambda w: len(w))\n",
    "print(a)"
   ]
  },
  {
   "cell_type": "code",
   "execution_count": 22,
   "id": "c33f5934-7919-45b1-a1bd-c04cff92c1ea",
   "metadata": {},
   "outputs": [
    {
     "name": "stdout",
     "output_type": "stream",
     "text": [
      "['dictionary', 'eeeeee']\n"
     ]
    }
   ],
   "source": [
    "#38\n",
    "s=[\"list\",\"string\",\"tuple\",\"dictionary\",\"set\",\"eeeeee\"]\n",
    "d=['a','i','u','o','e']\n",
    "f=[i for i in s if sum(i.count(char) for char in d) > 3]\n",
    "print(f)"
   ]
  },
  {
   "cell_type": "code",
   "execution_count": 25,
   "id": "d306f8f0-50db-465c-b90f-2d3fc7d6e55c",
   "metadata": {},
   "outputs": [
    {
     "name": "stdout",
     "output_type": "stream",
     "text": [
      "13501\n"
     ]
    }
   ],
   "source": [
    "#39\n",
    "s=[sum(int(g) for g in str(j)) for j in range(1,1001)]\n",
    "print(sum(s))"
   ]
  },
  {
   "cell_type": "code",
   "execution_count": 27,
   "id": "08c12b1f-a611-4eae-b46b-73d8ed64ac4e",
   "metadata": {},
   "outputs": [
    {
     "name": "stdout",
     "output_type": "stream",
     "text": [
      "[2, 3, 5, 7, 11, 101, 131, 151, 181, 191, 313, 353, 373, 383, 727, 757, 787, 797, 919, 929]\n"
     ]
    }
   ],
   "source": [
    "#40\n",
    "def is_prime(n):\n",
    "    if n <= 1:\n",
    "        return False\n",
    "    if n <= 3:\n",
    "        return True\n",
    "    if n % 2 == 0 or n % 3 == 0:\n",
    "        return False\n",
    "    i = 5\n",
    "    while i * i <= n:\n",
    "        if n % i == 0 or n % (i + 2) == 0:\n",
    "            return False\n",
    "        i += 6\n",
    "    return True\n",
    "s=[i for i in range(1,1001) if str(i) == str(i)[::-1] and is_prime(i) ]\n",
    "print(s)"
   ]
  }
 ],
 "metadata": {
  "kernelspec": {
   "display_name": "Python 3 (ipykernel)",
   "language": "python",
   "name": "python3"
  },
  "language_info": {
   "codemirror_mode": {
    "name": "ipython",
    "version": 3
   },
   "file_extension": ".py",
   "mimetype": "text/x-python",
   "name": "python",
   "nbconvert_exporter": "python",
   "pygments_lexer": "ipython3",
   "version": "3.10.8"
  }
 },
 "nbformat": 4,
 "nbformat_minor": 5
}
